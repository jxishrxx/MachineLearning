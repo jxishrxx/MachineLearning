{
 "cells": [
  {
   "cell_type": "code",
   "execution_count": 74,
   "id": "cae1bc6c",
   "metadata": {},
   "outputs": [],
   "source": [
    "from numpy import random\n",
    "import numpy as np\n",
    "import pandas as pd\n",
    "x = random.randn(1000)\n",
    "y = (0.9*random.randn(1000))+x"
   ]
  },
  {
   "cell_type": "code",
   "execution_count": 75,
   "id": "05dd8b96",
   "metadata": {},
   "outputs": [
    {
     "data": {
      "text/html": [
       "<div>\n",
       "<style scoped>\n",
       "    .dataframe tbody tr th:only-of-type {\n",
       "        vertical-align: middle;\n",
       "    }\n",
       "\n",
       "    .dataframe tbody tr th {\n",
       "        vertical-align: top;\n",
       "    }\n",
       "\n",
       "    .dataframe thead th {\n",
       "        text-align: right;\n",
       "    }\n",
       "</style>\n",
       "<table border=\"1\" class=\"dataframe\">\n",
       "  <thead>\n",
       "    <tr style=\"text-align: right;\">\n",
       "      <th></th>\n",
       "    </tr>\n",
       "  </thead>\n",
       "  <tbody>\n",
       "  </tbody>\n",
       "</table>\n",
       "</div>"
      ],
      "text/plain": [
       "Empty DataFrame\n",
       "Columns: []\n",
       "Index: []"
      ]
     },
     "execution_count": 75,
     "metadata": {},
     "output_type": "execute_result"
    }
   ],
   "source": [
    "df=pd.DataFrame()\n",
    "df"
   ]
  },
  {
   "cell_type": "code",
   "execution_count": 76,
   "id": "a0aec987",
   "metadata": {},
   "outputs": [
    {
     "data": {
      "text/html": [
       "<div>\n",
       "<style scoped>\n",
       "    .dataframe tbody tr th:only-of-type {\n",
       "        vertical-align: middle;\n",
       "    }\n",
       "\n",
       "    .dataframe tbody tr th {\n",
       "        vertical-align: top;\n",
       "    }\n",
       "\n",
       "    .dataframe thead th {\n",
       "        text-align: right;\n",
       "    }\n",
       "</style>\n",
       "<table border=\"1\" class=\"dataframe\">\n",
       "  <thead>\n",
       "    <tr style=\"text-align: right;\">\n",
       "      <th></th>\n",
       "      <th>X</th>\n",
       "      <th>Y</th>\n",
       "    </tr>\n",
       "  </thead>\n",
       "  <tbody>\n",
       "    <tr>\n",
       "      <th>0</th>\n",
       "      <td>1.550793</td>\n",
       "      <td>1.747505</td>\n",
       "    </tr>\n",
       "    <tr>\n",
       "      <th>1</th>\n",
       "      <td>0.231000</td>\n",
       "      <td>-0.009082</td>\n",
       "    </tr>\n",
       "    <tr>\n",
       "      <th>2</th>\n",
       "      <td>1.201626</td>\n",
       "      <td>1.359734</td>\n",
       "    </tr>\n",
       "    <tr>\n",
       "      <th>3</th>\n",
       "      <td>2.073940</td>\n",
       "      <td>0.711632</td>\n",
       "    </tr>\n",
       "    <tr>\n",
       "      <th>4</th>\n",
       "      <td>-0.366542</td>\n",
       "      <td>-1.926689</td>\n",
       "    </tr>\n",
       "    <tr>\n",
       "      <th>...</th>\n",
       "      <td>...</td>\n",
       "      <td>...</td>\n",
       "    </tr>\n",
       "    <tr>\n",
       "      <th>995</th>\n",
       "      <td>-0.536147</td>\n",
       "      <td>-0.116238</td>\n",
       "    </tr>\n",
       "    <tr>\n",
       "      <th>996</th>\n",
       "      <td>2.394686</td>\n",
       "      <td>3.073854</td>\n",
       "    </tr>\n",
       "    <tr>\n",
       "      <th>997</th>\n",
       "      <td>-2.095286</td>\n",
       "      <td>-1.170092</td>\n",
       "    </tr>\n",
       "    <tr>\n",
       "      <th>998</th>\n",
       "      <td>2.006895</td>\n",
       "      <td>-0.696227</td>\n",
       "    </tr>\n",
       "    <tr>\n",
       "      <th>999</th>\n",
       "      <td>-0.286973</td>\n",
       "      <td>0.549836</td>\n",
       "    </tr>\n",
       "  </tbody>\n",
       "</table>\n",
       "<p>1000 rows × 2 columns</p>\n",
       "</div>"
      ],
      "text/plain": [
       "            X         Y\n",
       "0    1.550793  1.747505\n",
       "1    0.231000 -0.009082\n",
       "2    1.201626  1.359734\n",
       "3    2.073940  0.711632\n",
       "4   -0.366542 -1.926689\n",
       "..        ...       ...\n",
       "995 -0.536147 -0.116238\n",
       "996  2.394686  3.073854\n",
       "997 -2.095286 -1.170092\n",
       "998  2.006895 -0.696227\n",
       "999 -0.286973  0.549836\n",
       "\n",
       "[1000 rows x 2 columns]"
      ]
     },
     "execution_count": 76,
     "metadata": {},
     "output_type": "execute_result"
    }
   ],
   "source": [
    "df.insert(0,\"X\",x)\n",
    "df.insert(1,\"Y\",y)\n",
    "df"
   ]
  },
  {
   "cell_type": "code",
   "execution_count": 77,
   "id": "ee129d1a",
   "metadata": {},
   "outputs": [],
   "source": [
    "x_mean=np.mean(x)\n",
    "y_mean=np.mean(y)"
   ]
  },
  {
   "cell_type": "code",
   "execution_count": 78,
   "id": "3cf31605",
   "metadata": {},
   "outputs": [
    {
     "name": "stdout",
     "output_type": "stream",
     "text": [
      "Slope is  1.0653350442250853\n",
      "Intercept is  -0.025286459708105283\n"
     ]
    }
   ],
   "source": [
    "num=0\n",
    "den=0\n",
    "n=1000\n",
    "for i in range(1000):\n",
    "    num+=(x[i]-x_mean)*(y[i]-y_mean)\n",
    "    den+=(x[i]-x_mean)*(x[i]-x_mean)\n",
    "m=num/den\n",
    "c=y_mean-(m*x_mean)\n",
    "y_pred=m*x+c\n",
    "print (\"Slope is \",m)\n",
    "print(\"Intercept is \",c)"
   ]
  },
  {
   "cell_type": "code",
   "execution_count": 79,
   "id": "73c7ca8d",
   "metadata": {},
   "outputs": [],
   "source": [
    "sum_xy = np.sum(y*x) - n*y_mean*x_mean\n",
    "sum_xx = np.sum(x*x) - n*x_mean*x_mean\n",
    "b1 = sum_xy / sum_xx\n",
    "b0 = y_mean - b1*x_mean"
   ]
  },
  {
   "cell_type": "code",
   "execution_count": 80,
   "id": "ebb21533",
   "metadata": {},
   "outputs": [
    {
     "data": {
      "image/png": "[encoded data removed]",
      "text/plain": [
       "<Figure size 432x288 with 1 Axes>"
      ]
     },
     "metadata": {
      "needs_background": "light"
     },
     "output_type": "display_data"
    }
   ],
   "source": [
    "import matplotlib.pyplot as plt\n",
    "plt.scatter(x,y,color = \"r\", s = 10)\n",
    "plt.plot(x, y_pred, color = \"b\")\n",
    "plt.xlabel('x')\n",
    "plt.ylabel('y')\n",
    "plt.show()"
   ]
  },
  {
   "cell_type": "code",
   "execution_count": 81,
   "id": "92920832",
   "metadata": {},
   "outputs": [
    {
     "name": "stdout",
     "output_type": "stream",
     "text": [
      "Slope from Gradient Descent  0.9362924422703415\n",
      "Intercept from Gradient Descent  -0.0203917435610069\n"
     ]
    }
   ],
   "source": [
    "M = 0\n",
    "C = 0\n",
    "L = 0.001 #learning rate\n",
    "itr = 1000 #number of iterations\n",
    "# Performing Gradient Descent \n",
    "for i in range(itr): \n",
    "    Y_pred = M*x + C  # The current predicted value of Y\n",
    "    D_m = (-2/n) * sum(x * (y - Y_pred))  # Derivative wrt m\n",
    "    D_c = (-2/n) * sum(y - Y_pred)  # Derivative wrt c\n",
    "    M = M - L * D_m  # Update m\n",
    "    C = C - L * D_c  # Update c\n",
    "    \n",
    "\n",
    "print(\"Slope from Gradient Descent \",M)\n",
    "print(\"Intercept from Gradient Descent \",C)"
   ]
  },
  {
   "cell_type": "code",
   "execution_count": 82,
   "id": "7f6605e1",
   "metadata": {},
   "outputs": [
    {
     "data": {
      "image/png": "[encoded data removed]",
      "text/plain": [
       "<Figure size 432x288 with 1 Axes>"
      ]
     },
     "metadata": {
      "needs_background": "light"
     },
     "output_type": "display_data"
    }
   ],
   "source": [
    "plt.plot(x,M*x+C,c='black')\n",
    "plt.scatter(x,y,s=7,c='orange')\n",
    "plt.show()"
   ]
  },
  {
   "cell_type": "code",
   "execution_count": 84,
   "id": "d5d331f2",
   "metadata": {},
   "outputs": [
    {
     "name": "stdout",
     "output_type": "stream",
     "text": [
      "Coefficient using sklearn [1.06533504]\n",
      "Intercept using sklearn -0.025286459708105277\n"
     ]
    }
   ],
   "source": [
    "x=x.reshape(-1,1)\n",
    "from sklearn.linear_model import LinearRegression\n",
    "i=LinearRegression()\n",
    "i.fit(x,y)\n",
    "pred=i.predict(x)\n",
    "print(\"Coefficient using sklearn\",i.coef_)\n",
    "print(\"Intercept using sklearn\",i.intercept_)"
   ]
  }
 ],
 "metadata": {
  "kernelspec": {
   "display_name": "Python 3 (ipykernel)",
   "language": "python",
   "name": "python3"
  },
  "language_info": {
   "codemirror_mode": {
    "name": "ipython",
    "version": 3
   },
   "file_extension": ".py",
   "mimetype": "text/x-python",
   "name": "python",
   "nbconvert_exporter": "python",
   "pygments_lexer": "ipython3",
   "version": "3.9.7"
  }
 },
 "nbformat": 4,
 "nbformat_minor": 5
}
